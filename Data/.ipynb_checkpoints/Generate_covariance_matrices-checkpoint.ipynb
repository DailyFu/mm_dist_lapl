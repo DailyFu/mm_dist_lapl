{
 "cells": [
  {
   "cell_type": "code",
   "execution_count": 326,
   "metadata": {
    "collapsed": true
   },
   "outputs": [],
   "source": [
    "%matplotlib inline\n",
    "import numpy as np\n",
    "import matplotlib.pyplot as plt"
   ]
  },
  {
   "cell_type": "code",
   "execution_count": null,
   "metadata": {
    "collapsed": true
   },
   "outputs": [],
   "source": []
  },
  {
   "cell_type": "code",
   "execution_count": 327,
   "metadata": {
    "collapsed": false
   },
   "outputs": [],
   "source": [
    "#Parameters\n",
    "gridSize = 15 # n-by-n grid of covariances\n",
    "d = 30 # d-dimensional covariances"
   ]
  },
  {
   "cell_type": "code",
   "execution_count": 328,
   "metadata": {
    "collapsed": true
   },
   "outputs": [],
   "source": [
    "#Have constant seed\n",
    "np.random.seed(0)"
   ]
  },
  {
   "cell_type": "code",
   "execution_count": 329,
   "metadata": {
    "collapsed": false
   },
   "outputs": [],
   "source": [
    "#Randomly generate the 4 endpoint covariances\n",
    "(Q11, R11) = np.linalg.qr(np.random.rand(d,d))\n",
    "(Q1d, R1d) = np.linalg.qr(np.random.rand(d,d))\n",
    "(Qd1, Rd1) = np.linalg.qr(np.random.rand(d,d))\n",
    "(Qdd, Rdd) = np.linalg.qr(np.random.rand(d,d))\n",
    "\n",
    "eig1 = np.exp(2*np.random.randn(d) - .5)\n",
    "eig2 = np.exp(2.3*np.random.randn(d) - .1)\n",
    "eig3 = np.exp(2*np.random.randn(d) - 0)\n",
    "eig4 = np.exp(2*np.random.randn(d) + .1)\n",
    "\n",
    "c11 = np.linalg.cholesky(np.dot(Q11, np.dot(np.diag(eig1), Q11.T)))\n",
    "c1d = np.linalg.cholesky(np.dot(Q1d, np.dot(np.diag(eig2), Q1d.T)))\n",
    "cd1 = np.linalg.cholesky(np.dot(Qd1, np.dot(np.diag(eig3), Qd1.T)))\n",
    "cdd = np.linalg.cholesky(np.dot(Qdd, np.dot(np.diag(eig4), Qdd.T)))"
   ]
  },
  {
   "cell_type": "code",
   "execution_count": 330,
   "metadata": {
    "collapsed": false
   },
   "outputs": [
    {
     "name": "stdout",
     "output_type": "stream",
     "text": [
      "Condition numbers of corner matrices:\n",
      "4963.96900862 2965.34399463 2129.99240299 2282.75861471\n"
     ]
    }
   ],
   "source": [
    "#condition number (want to be large) and norm\n",
    "print('Condition numbers of corner matrices:')\n",
    "print(np.linalg.cond(c11.dot(c11.T)), np.linalg.cond(c1d.dot(c1d.T)), np.linalg.cond(cd1.dot(cd1.T)), np.linalg.cond(cdd.dot(cdd.T)))"
   ]
  },
  {
   "cell_type": "code",
   "execution_count": 331,
   "metadata": {
    "collapsed": false
   },
   "outputs": [
    {
     "data": {
      "image/png": "[encoded data removed]",
      "text/plain": [
       "<matplotlib.figure.Figure at 0x111f8e358>"
      ]
     },
     "metadata": {},
     "output_type": "display_data"
    }
   ],
   "source": [
    "#print distribution of eigvals\n",
    "f, (ax1, ax2, ax3, ax4) = plt.subplots(4,1, sharex=True)\n",
    "ax1.hist(np.linalg.eig(c11.dot(c11.T))[0])\n",
    "ax2.hist(np.linalg.eig(c1d.dot(c1d.T))[0])\n",
    "ax3.hist(np.linalg.eig(cd1.dot(cd1.T))[0])\n",
    "ax4.hist(np.linalg.eig(cdd.dot(cdd.T))[0])\n",
    "\n",
    "plt.show()"
   ]
  },
  {
   "cell_type": "code",
   "execution_count": 332,
   "metadata": {
    "collapsed": true
   },
   "outputs": [],
   "source": [
    "#Initialize weight matrix\n",
    "w = np.zeros((gridSize, gridSize))"
   ]
  },
  {
   "cell_type": "code",
   "execution_count": 333,
   "metadata": {
    "collapsed": false
   },
   "outputs": [],
   "source": [
    "#Use bilinear interpolation to generate all covariances\n",
    "bigMat = np.zeros((d*gridSize, d*gridSize))\n",
    "\n",
    "#Add the four corners\n",
    "bigMat[0:d, 0:d] = c11\n",
    "bigMat[0:d, (gridSize-1)*d:gridSize*d] = c1d\n",
    "bigMat[(gridSize-1)*d:gridSize*d, 0:d] = cd1\n",
    "bigMat[(gridSize-1)*d:gridSize*d, (gridSize-1)*d:gridSize*d] = cdd\n",
    "\n",
    "#Fill in the top and bottom blocks\n",
    "for i in range(1, gridSize-1):\n",
    "        bigMat[0:d, i*d:(i+1)*d] = (i/float(gridSize-1))*c1d + ((gridSize-1-i)/float(gridSize-1))*c11\n",
    "        bigMat[(gridSize-1)*d:gridSize*d, i*d:(i+1)*d] = (i/float(gridSize-1))*cdd + ((gridSize-1-i)/float(gridSize-1))*cd1\n",
    "\n",
    "#Fill in the remaining middle blocks (do it vertically, column-by-column)\n",
    "\n",
    "for i in range(gridSize):\n",
    "    top = bigMat[0:d, i*d:(i+1)*d]\n",
    "    bottom = bigMat[(gridSize-1)*d:gridSize*d, i*d:(i+1)*d]\n",
    "    for j in range(1,gridSize-1):\n",
    "        bigMat[ j*d:(j+1)*d, i*d:(i+1)*d] = (j/float(gridSize-1))*bottom + ((gridSize-1-j)/float(gridSize-1))*top\n"
   ]
  },
  {
   "cell_type": "code",
   "execution_count": 334,
   "metadata": {
    "collapsed": true
   },
   "outputs": [],
   "source": [
    "'''Convert from L to cov = LL^T'''\n",
    "for i in range(gridSize):\n",
    "    for j in range(gridSize):\n",
    "        bigMat[i*d:(i+1)*d, j*d:(j+1)*d] = np.dot(bigMat[i*d:(i+1)*d, j*d:(j+1)*d], bigMat[i*d:(i+1)*d, j*d:(j+1)*d].T)\n",
    "    "
   ]
  },
  {
   "cell_type": "code",
   "execution_count": 335,
   "metadata": {
    "collapsed": true
   },
   "outputs": [],
   "source": [
    "#Save giant covariance (with all node covariances in the grid) to file\n",
    "np.savetxt('largeCov_' + str(gridSize**2) +'_n=' + str(d) + '_3.csv', bigMat, delimiter=',')"
   ]
  }
 ],
 "metadata": {
  "anaconda-cloud": {},
  "kernelspec": {
   "display_name": "Python 3",
   "language": "python",
   "name": "python3"
  },
  "language_info": {
   "codemirror_mode": {
    "name": "ipython",
    "version": 3
   },
   "file_extension": ".py",
   "mimetype": "text/x-python",
   "name": "python",
   "nbconvert_exporter": "python",
   "pygments_lexer": "ipython3",
   "version": "3.6.0"
  }
 },
 "nbformat": 4,
 "nbformat_minor": 1
}
